{
 "cells": [
  {
   "cell_type": "code",
   "execution_count": null,
   "id": "6e4162f6-c35b-45bc-a35b-a5d676eddaf2",
   "metadata": {},
   "outputs": [],
   "source": [
    "import seaborn as sns\n",
    "import pandas as pd\n",
    "import matplotlib.pyplot as plt"
   ]
  },
  {
   "cell_type": "code",
   "execution_count": null,
   "id": "8b1f49fa-8e80-41b8-a6e7-572c3d9daef5",
   "metadata": {},
   "outputs": [],
   "source": [
    "import sys\n",
    "\n",
    "sys.path.append(\"..\")\n",
    "from src.utils.sql_util import (\n",
    "    get_db_conn,\n",
    "    get_statedata,\n",
    "    get_center_info,\n",
    "    get_call_center_network,\n",
    "    is_center_backup,\n",
    ")\n",
    "\n",
    "%load_ext autoreload\n",
    "%autoreload 2"
   ]
  },
  {
   "cell_type": "code",
   "execution_count": null,
   "id": "00601d11-011b-4fe8-a39f-420b7f626c71",
   "metadata": {},
   "outputs": [],
   "source": [
    "def get_data(query, conn, **kwargs):\n",
    "    # Read SQL query into a DataFrame.\n",
    "    return pd.read_sql_query(query, conn, **kwargs)"
   ]
  },
  {
   "cell_type": "markdown",
   "id": "2d6367ba-4bfb-4ae1-99f8-2dfbad58b916",
   "metadata": {
    "tags": []
   },
   "source": [
    "## Basic Count\n",
    "\n",
    "- Number of rows in the dataset\n",
    "- Number of columns in the dataset\n",
    "- Number of unique exchange code\n",
    "- Minimun and maximum datechange\n",
    "- Number of unique datechange "
   ]
  },
  {
   "cell_type": "code",
   "execution_count": null,
   "id": "0ed1695a-4cff-4bdb-ba8b-382190ef8561",
   "metadata": {},
   "outputs": [],
   "source": [
    "# Get db connection\n",
    "db_conn = get_db_conn()"
   ]
  },
  {
   "cell_type": "code",
   "execution_count": null,
   "id": "2142e0c3-22cb-4d64-aa6c-aae0f167093e",
   "metadata": {},
   "outputs": [],
   "source": [
    "# Number of rows\n",
    "query = \"\"\"\n",
    "    select \n",
    "        count(*)\n",
    "    from raw.vibrant_routingtable_202206031725 vr ;\n",
    "\"\"\"\n",
    "result = get_data(query, db_conn)\n",
    "print(f\"Number of rows: {result['count'][0]}\")"
   ]
  },
  {
   "cell_type": "code",
   "execution_count": null,
   "id": "1ee4828d-2880-45bc-8c97-c4f7e2a8ebcd",
   "metadata": {},
   "outputs": [],
   "source": [
    "# Number of columns\n",
    "query = \"\"\"\n",
    "    select \n",
    "        count(*)\n",
    "    from information_schema.columns \n",
    "    where table_name = 'vibrant_routingtable_202206031725' ;\n",
    "\"\"\"\n",
    "\n",
    "result = get_data(query, db_conn)\n",
    "print(f\"Number of columns: {result['count'][0]}\")"
   ]
  },
  {
   "cell_type": "code",
   "execution_count": null,
   "id": "a78098bc-c989-4e61-839d-094d80c5c8b7",
   "metadata": {},
   "outputs": [],
   "source": [
    "# Number of distinct exchange code\n",
    "query = \"\"\"\n",
    "    select \n",
    "        count(distinct npanxx)\n",
    "    from raw.vibrant_routingtable_202206031725 vr ;\n",
    "\"\"\"\n",
    "\n",
    "result = get_data(query, db_conn)\n",
    "print(f\"Number of distinct exchange code: {result['count'][0]}\")"
   ]
  },
  {
   "cell_type": "markdown",
   "id": "f08a04fa-c7fc-4850-8e54-5af094ad234e",
   "metadata": {},
   "source": [
    "**Comment:** all the rows in the dataset are distinct"
   ]
  },
  {
   "cell_type": "code",
   "execution_count": null,
   "id": "be232800-f01a-4db3-8ff6-aad7e6b1e515",
   "metadata": {},
   "outputs": [],
   "source": [
    "# Minimum and maximum datechange\n",
    "query = \"\"\"\n",
    "    select \n",
    "        min(datechanged), \n",
    "        max(datechanged)\n",
    "    from raw.vibrant_routingtable_202206031725 vr ;\n",
    "\"\"\"\n",
    "result = get_data(query, db_conn)\n",
    "print(f\"Minimum datechange: {result['min'][0]}\")\n",
    "print(f\"Maximum datechange: {result['max'][0]}\")"
   ]
  },
  {
   "cell_type": "code",
   "execution_count": null,
   "id": "6e6c2f18-d12f-464c-9c13-d6b81de90cae",
   "metadata": {},
   "outputs": [],
   "source": [
    "# Number of unique datechange\n",
    "query = \"\"\"\n",
    "    select \n",
    "        count(distinct datechanged::date)\n",
    "    from raw.vibrant_routingtable_202206031725 vr \n",
    "\"\"\"\n",
    "result = get_data(query, db_conn)\n",
    "print(f\"Unique datechange: {result['count'][0]}\")"
   ]
  },
  {
   "cell_type": "markdown",
   "id": "1c1589a5-6da6-486c-b2d4-ead1aefd1211",
   "metadata": {},
   "source": [
    "## Routing Table Call Center Analysis\n",
    "\n",
    "- List of columns\n",
    "- Distribution of exchange codes across the call centers\n",
    "- Total distinct exchange code in the routing table\n",
    "- Assert 1-1 mapping between call center and termination numbers\n",
    "- Distinct center roles\n",
    "- Distribution of center1 roles\n",
    "- Unique combination of center roles"
   ]
  },
  {
   "cell_type": "code",
   "execution_count": null,
   "id": "f8b89fb6-1cda-435d-9b94-939e10cd8da9",
   "metadata": {},
   "outputs": [],
   "source": [
    "# List of columns\n",
    "query = \"\"\"\n",
    "    select \n",
    "        column_name \n",
    "    from information_schema.columns\n",
    "    where table_name = 'vibrant_routingtable_202206031725' ;\n",
    "\"\"\"\n",
    "result = get_data(query, db_conn)\n",
    "result[\"column_name\"].values"
   ]
  },
  {
   "cell_type": "code",
   "execution_count": null,
   "id": "b0a0273c-4be3-4e08-b316-0d78bc99c2ce",
   "metadata": {},
   "outputs": [],
   "source": [
    "# Distribution of exchange codes across the call centers\n",
    "query = \"\"\"\n",
    "    select \n",
    "        count(distinct center1id) as count_distinct_center1id,\n",
    "        count(distinct center2id) as count_distinct_center2id,\n",
    "        count(distinct center3id) as count_distinct_center3id,\n",
    "        count(distinct center4id) as count_distinct_center4id\n",
    "    from raw.vibrant_routingtable_202206031725 vr;\n",
    "\"\"\"\n",
    "\n",
    "result = get_data(query, db_conn)\n",
    "display(result.T)"
   ]
  },
  {
   "cell_type": "markdown",
   "id": "1ab901e6-5a4e-4c13-bdf8-d47dc42476e2",
   "metadata": {},
   "source": [
    "**Comment:** \n",
    "- There are no exchange codes with center4id\n",
    "- Call center and exchange code is not a one-to-one mapping i.e each call center can handle multiple exchange codes"
   ]
  },
  {
   "cell_type": "code",
   "execution_count": null,
   "id": "bb191625-d332-4320-a41f-a2c91ad4d6b3",
   "metadata": {},
   "outputs": [],
   "source": [
    "# Total distinct exchange code in the routing table\n",
    "\n",
    "query = \"\"\"\n",
    "    select \n",
    "        distinct {}\n",
    "    from raw.vibrant_routingtable_202206031725 vr ;\n",
    "\"\"\"\n",
    "\n",
    "results = []\n",
    "unique_results = set()\n",
    "for center_id in [\"center1id\", \"center2id\", \"center3id\"]:\n",
    "    result = get_data(query.format(center_id), db_conn).dropna()\n",
    "    results.extend(result[center_id])\n",
    "\n",
    "print(f\"Number of distinct call centers: {len(set(results))}\")"
   ]
  },
  {
   "cell_type": "markdown",
   "id": "9dc71680-e0de-4073-9808-71832ed3c507",
   "metadata": {},
   "source": [
    "**Comment:** This includes `None` value (dropped). `None` values are encountered in columns where the calls were routed to the national backup centers. "
   ]
  },
  {
   "cell_type": "code",
   "execution_count": null,
   "id": "24251f60-f7fa-4c97-bd5e-400057620e4f",
   "metadata": {},
   "outputs": [],
   "source": [
    "# Assert 1-1 mapping between call center and termination numbers\n",
    "\n",
    "query = \"\"\"\n",
    "    select \n",
    "        count(distinct center1id) as count_distinct_center1id,\n",
    "        count(distinct center1termination) as count_distinct_center1termination,\n",
    "        count(distinct center2id) as count_distinct_center2id,\n",
    "        count(distinct center2termination) as count_distinct_center2termination,\n",
    "        count(distinct center3id) as count_distinct_center3id,\n",
    "        count(distinct center3termination) as count_distinct_center3termination\n",
    "    from raw.vibrant_routingtable_202206031725 vr ;\n",
    "\"\"\"\n",
    "\n",
    "result = get_data(query, db_conn)\n",
    "assert (\n",
    "    result[\"count_distinct_center1id\"][0]\n",
    "    == result[\"count_distinct_center1termination\"][0]\n",
    ")\n",
    "assert (\n",
    "    result[\"count_distinct_center2id\"][0]\n",
    "    == result[\"count_distinct_center2termination\"][0]\n",
    ")\n",
    "assert (\n",
    "    result[\"count_distinct_center3id\"][0]\n",
    "    == result[\"count_distinct_center3termination\"][0]\n",
    ")"
   ]
  },
  {
   "cell_type": "code",
   "execution_count": null,
   "id": "5ee11994-601e-4a76-9339-c7a18f3a809e",
   "metadata": {},
   "outputs": [],
   "source": [
    "# Distinct of center roles\n",
    "query = \"\"\"\n",
    "    select \n",
    "        count(distinct center1role) as distinct_center1role,\n",
    "        count(distinct center2role) as distinct_center2role,\n",
    "        count(distinct center3role) as distinct_center3role\n",
    "    from raw.vibrant_routingtable_202206031725 vr ;\n",
    "\"\"\"\n",
    "\n",
    "result = get_data(query, db_conn)\n",
    "display(result.T)"
   ]
  },
  {
   "cell_type": "code",
   "execution_count": null,
   "id": "5374f999-1051-4044-994d-4a709ddf959e",
   "metadata": {},
   "outputs": [],
   "source": [
    "# Distribution of center1 roles\n",
    "query = \"\"\"\n",
    "    select \n",
    "        center1role , \n",
    "        count(*)\n",
    "    from raw.vibrant_routingtable_202206031725 vr \n",
    "    group by 1\n",
    "    order by 2 desc;\n",
    "\"\"\"\n",
    "\n",
    "result = get_data(query, db_conn)\n",
    "display(result)"
   ]
  },
  {
   "cell_type": "markdown",
   "id": "88732a4c-4367-4ea8-91cf-532ecc4023bd",
   "metadata": {},
   "source": [
    "**Comment:** There are 27,763 exchange code with `None` values in their center1 i.e they were routed directly to backup center. "
   ]
  },
  {
   "cell_type": "code",
   "execution_count": null,
   "id": "4581793d-8427-49d5-aca6-007d89fa5b46",
   "metadata": {},
   "outputs": [],
   "source": [
    "# Unique combination of center roles\n",
    "query = \"\"\"\n",
    "    select \n",
    "        center1role, \n",
    "        center2role,\n",
    "        center3role, \n",
    "        count(*)\n",
    "    from raw.vibrant_routingtable_202206031725 vr \n",
    "    group by 1, 2, 3\n",
    "    order by 4 desc;\n",
    "\"\"\"\n",
    "\n",
    "result = get_data(query, db_conn)\n",
    "display(result)"
   ]
  },
  {
   "cell_type": "markdown",
   "id": "ce6e7669-c353-421a-a35e-74ddf4585480",
   "metadata": {},
   "source": [
    "We should clarify the order. The order looks like `PrimaryFIPSCountyCode > PrimaryZipCode  > PrimaryAreaCode > PrimaryStateCode > BackupFIPSCountyCode > BackupAreaCode > BackupStateCode`. What is the `PrimaryZipCode` ?"
   ]
  },
  {
   "cell_type": "markdown",
   "id": "b7c48a1c-7ec7-4e1d-a8d1-5176e8ffb9c8",
   "metadata": {},
   "source": [
    "## Digging Deep: invesitigative questions"
   ]
  },
  {
   "cell_type": "markdown",
   "id": "b1988ed0-840e-4250-be6f-17f90fa43782",
   "metadata": {
    "tags": []
   },
   "source": [
    "### Exchange Code\n",
    "\n",
    "- Number of exchange code not in call-center table\n",
    "- Number of exchange number that should have been directly routed to National-Backup\n",
    "- Out of the exchange code that should have been directly routed to National-Backup, how many exist in the call-center table?\n",
    "- Out of the exchange code that should have been directly routed to National-Backup, how many exist in the call-center table and is terminated?\n",
    "- Out of the exchange code that should have been directly routed to National-Backup and exists in the call-center table, what is the call network distribution?"
   ]
  },
  {
   "cell_type": "code",
   "execution_count": null,
   "id": "5d3620e0-b314-4f67-b473-e62aa7d486fc",
   "metadata": {},
   "outputs": [],
   "source": [
    "# Number of exchange code not in call-center table\n",
    "query = \"\"\"\n",
    "    select \n",
    "       count(distinct npanxx)\n",
    "    from raw.vibrant_routingtable_202206031725 vr \n",
    "    left join raw.vibrant_centers_calls_202206031630 vcc \n",
    "    on vr.npanxx = vcc.caller_npanxx \n",
    "    where vcc.caller_npanxx isnull ;\n",
    "\"\"\"\n",
    "\n",
    "result = get_data(query, db_conn)\n",
    "print(result[\"count\"][0])"
   ]
  },
  {
   "cell_type": "code",
   "execution_count": null,
   "id": "a78969a3-bb23-42d9-9e22-d1e5e2fbeb20",
   "metadata": {},
   "outputs": [],
   "source": [
    "# Number of exchange number that should have been directly routed to National-Backup\n",
    "query = \"\"\"\n",
    "    select \n",
    "        count(npanxx) \n",
    "    from raw.vibrant_routingtable_202206031725 vr \n",
    "    where center1id isnull;\n",
    "\"\"\"\n",
    "\n",
    "result = get_data(query, db_conn)\n",
    "print(result[\"count\"][0])"
   ]
  },
  {
   "cell_type": "code",
   "execution_count": null,
   "id": "32f500f8-f78a-499a-b291-69444db3ad4c",
   "metadata": {},
   "outputs": [],
   "source": [
    "# Out of the exchange code that should have been directly routed to National-Backup, how many exist in the call-center table?\n",
    "\n",
    "query = \"\"\"\n",
    "    select \n",
    "        count(distinct vr.npanxx),\n",
    "        count(distinct vcc.caller_npanxx)\n",
    "    from raw.vibrant_routingtable_202206031725 vr \n",
    "    inner join raw.vibrant_centers_calls_202206031630 vcc \n",
    "    on vr.npanxx = vcc.caller_npanxx \n",
    "    where center1id isnull  ;\n",
    "\"\"\"\n",
    "\n",
    "result = get_data(query, db_conn)\n",
    "display(result)"
   ]
  },
  {
   "cell_type": "code",
   "execution_count": null,
   "id": "3c0237ff-d353-4bc6-b84e-f9d644b450dc",
   "metadata": {},
   "outputs": [],
   "source": [
    "# Out of the exchange code that should have been directly routed to National-Backup, how many exist in the call-center table and is terminated?\n",
    "\n",
    "query = \"\"\"\n",
    "    select \n",
    "        count(distinct vr.npanxx)\n",
    "    from raw.vibrant_routingtable_202206031725 vr \n",
    "    inner join raw.vibrant_centers_calls_202206031630 vcc \n",
    "    on vr.npanxx = vcc.caller_npanxx \n",
    "    where center1id isnull \n",
    "    and terminated=1;\n",
    "\"\"\"\n",
    "\n",
    "result = get_data(query, db_conn)\n",
    "display(result)"
   ]
  },
  {
   "cell_type": "code",
   "execution_count": null,
   "id": "d0b0b7f5-ef23-418c-8772-d7dcfaa1abdc",
   "metadata": {},
   "outputs": [],
   "source": [
    "# Out of the exchange code that should have been directly routed to National-Backup and exists in the call-center table, what is the call network distribution?\n",
    "\n",
    "\n",
    "def exchange_code_distribution_per_subnetwork_with_null_in_center1(network):\n",
    "    query = \"\"\"\n",
    "        select \n",
    "            count(distinct caller_npanxx) as {}\n",
    "        from raw.vibrant_routingtable_202206031725 vr \n",
    "        inner join raw.vibrant_centers_calls_202206031630 vcc \n",
    "        on vr.npanxx = vcc.caller_npanxx \n",
    "        where center1id isnull \n",
    "        and terminated = 1\n",
    "        and {} = 1;\n",
    "    \"\"\"\n",
    "\n",
    "    result = get_data(query.format(network, network), db_conn)\n",
    "    return result\n",
    "\n",
    "\n",
    "results = []\n",
    "networks = [\n",
    "    \"network_is_ll\",\n",
    "    \"network_is_va\",\n",
    "    \"network_is_ll_spanish\",\n",
    "    \"network_is_ll_backup\",\n",
    "]\n",
    "for network in networks:\n",
    "    result = exchange_code_distribution_per_subnetwork_with_null_in_center1(network)\n",
    "    results.append(result)\n",
    "results = pd.concat(results, axis=1)\n",
    "display(results)"
   ]
  },
  {
   "cell_type": "markdown",
   "id": "be2ef55e-3c4d-49c1-863e-95024ea61443",
   "metadata": {},
   "source": [
    "**Comment:** Not all the exchange codes were routed directly to the National-Backup subnetwork."
   ]
  },
  {
   "cell_type": "code",
   "execution_count": null,
   "id": "f8446045-5053-4f1a-9ef3-28c2d4918455",
   "metadata": {},
   "outputs": [],
   "source": [
    "# sanity check.\n",
    "query = \"\"\"\n",
    "        select \n",
    "            network,\n",
    "            count(distinct caller_npanxx)\n",
    "        from raw.vibrant_routingtable_202206031725 vr \n",
    "        inner join raw.vibrant_centers_calls_202206031630 vcc \n",
    "        on vr.npanxx = vcc.caller_npanxx \n",
    "        where center1id isnull \n",
    "        and terminated = 1\n",
    "        group by 1;\n",
    "    \"\"\"\n",
    "\n",
    "result = get_data(query, db_conn)\n",
    "result"
   ]
  },
  {
   "cell_type": "markdown",
   "id": "783c94f3-066c-491d-bd2f-a17928e2908d",
   "metadata": {},
   "source": [
    "### Call Centers\n",
    "\n",
    "- What is the call centers distribution across the routing logic?\n",
    "- How many call centers are never the first in the routing logic? \n",
    "- List of call centers are never the first in the routing logic? \n",
    "- Where are the call centers are never the first in the routing logic located? \n",
    "- How many of the call centers that are never the first in the routing logic also National-Backup centers? \n",
    "- List of the call centers that are never the first in the routing logic and are also National-Backup center "
   ]
  },
  {
   "cell_type": "code",
   "execution_count": null,
   "id": "f0a85c9e-ee26-43c0-a5ca-32a2cb34096a",
   "metadata": {},
   "outputs": [],
   "source": [
    "# What is the call centers distribution across the routing logic?\n",
    "query = \"\"\"\n",
    "    select \n",
    "        count(distinct  center1id) as count_center1id,\n",
    "        count(distinct  center2id) as count_center2id,\n",
    "        count(distinct  center3id) as count_center3id,\n",
    "        count(distinct  center4id) as count_center4id \n",
    "    from raw.vibrant_routingtable_202206031725 vr ;\n",
    "\"\"\"\n",
    "\n",
    "result = get_data(query, db_conn)\n",
    "result"
   ]
  },
  {
   "cell_type": "code",
   "execution_count": null,
   "id": "983a75a6-d17e-49ff-9ae9-70573491b14f",
   "metadata": {},
   "outputs": [],
   "source": [
    "query = \"\"\"\n",
    "    select \n",
    "        distinct {}\n",
    "    from raw.vibrant_routingtable_202206031725 vr ;\n",
    "\"\"\"\n",
    "\n",
    "results = []\n",
    "center_ids = [\"center1id\", \"center2id\", \"center3id\"]\n",
    "all_center_ids = []\n",
    "for center_id in center_ids:\n",
    "    result = get_data(query.format(center_id), db_conn)\n",
    "    result = result[~result[center_id].isnull()]\n",
    "    results.append(result)\n",
    "    all_center_ids.extend(result[center_id].values.tolist())\n",
    "\n",
    "results = pd.concat(results, axis=1)\n",
    "print(len(set(all_center_ids)))"
   ]
  },
  {
   "cell_type": "code",
   "execution_count": null,
   "id": "1c187245-d922-4d7f-ba5e-3dcb74a9552b",
   "metadata": {},
   "outputs": [],
   "source": [
    "# How many call centers are never the first in the routing logic?\n",
    "len(set(all_center_ids) - set(results[\"center1id\"]))"
   ]
  },
  {
   "cell_type": "code",
   "execution_count": null,
   "id": "d407758f-d4e2-454d-a1a1-595d6ddf91ff",
   "metadata": {},
   "outputs": [],
   "source": [
    "# List of call centers are never the first in the routing logic?\n",
    "call_centers_not_center1 = set(all_center_ids) - set(results[\"center1id\"])\n",
    "call_centers_not_center1"
   ]
  },
  {
   "cell_type": "code",
   "execution_count": null,
   "id": "3e0b1fa4-6b38-4e91-b50c-1eb242de9f46",
   "metadata": {},
   "outputs": [],
   "source": [
    "# Where are the call centers are never the first in the routing logic located?\n",
    "call_center_info = []\n",
    "for call_center_id in call_centers_not_center1:\n",
    "    result = get_center_info(db_conn, call_center_id)\n",
    "    call_center_info.append(result)\n",
    "\n",
    "call_center_info = pd.concat(call_center_info)\n",
    "call_center_info"
   ]
  },
  {
   "cell_type": "code",
   "execution_count": null,
   "id": "2392104c-dc64-49fc-8cf1-41e2ed4de712",
   "metadata": {},
   "outputs": [],
   "source": [
    "# How many of the call centers that are never the first in the routing logic also National-Backup centers?\n",
    "call_center_is_backup = []\n",
    "call_center_that_is_also_backup = []\n",
    "for call_center_id in call_centers_not_center1:\n",
    "    result = is_center_backup(db_conn, call_center_id)\n",
    "    call_center_is_backup.append(result)\n",
    "    if result:\n",
    "        call_center_that_is_also_backup.append(call_center_id)\n",
    "\n",
    "sum(call_center_is_backup), len(call_centers_not_center1)"
   ]
  },
  {
   "cell_type": "code",
   "execution_count": null,
   "id": "4d2f51a3-b4d0-4145-906f-f939379d8669",
   "metadata": {},
   "outputs": [],
   "source": [
    "# List of the call centers that are never the first in the routing logic and are also National-Backup center\n",
    "call_center_that_is_also_backup"
   ]
  },
  {
   "cell_type": "markdown",
   "id": "623de7df-7cda-4bbf-8bd8-367be2c92ee1",
   "metadata": {},
   "source": [
    "**Comment:** Only 1 center out of 14 centers that are never center 1 is also a National-Backup center. Most of these centers are from Newyork, current hypothesis is that NewYork has many local call centers, so these call centers doesn't get to be first. Probably worth verifying."
   ]
  },
  {
   "cell_type": "code",
   "execution_count": null,
   "id": "0b71a396-9b44-4655-983b-1d8bc1837ba4",
   "metadata": {},
   "outputs": [],
   "source": []
  }
 ],
 "metadata": {
  "kernelspec": {
   "display_name": "vibrant-routing",
   "language": "python",
   "name": "vibrant-routing"
  },
  "language_info": {
   "codemirror_mode": {
    "name": "ipython",
    "version": 3
   },
   "file_extension": ".py",
   "mimetype": "text/x-python",
   "name": "python",
   "nbconvert_exporter": "python",
   "pygments_lexer": "ipython3",
   "version": "3.10.4"
  }
 },
 "nbformat": 4,
 "nbformat_minor": 5
}
