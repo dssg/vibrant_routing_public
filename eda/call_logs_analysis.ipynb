{
 "cells": [
  {
   "cell_type": "code",
   "execution_count": null,
   "metadata": {},
   "outputs": [],
   "source": [
    "# https://dssg.github.io/hitchhikers-guide/curriculum/software/python_sql/\n",
    "\n",
    "import os\n",
    "from sqlalchemy import create_engine\n",
    "import pandas as pd\n",
    "import functools as ft\n",
    "from matplotlib import pyplot as plt\n",
    "from shapely.geometry import Point\n",
    "import geopandas as gpd\n",
    "from geopandas import GeoDataFrame"
   ]
  },
  {
   "cell_type": "markdown",
   "metadata": {},
   "source": [
    "### Set up the db connection"
   ]
  },
  {
   "cell_type": "code",
   "execution_count": null,
   "metadata": {},
   "outputs": [],
   "source": [
    "# Get credentials from environment variables\n",
    "user = os.getenv(\"PGUSER\")\n",
    "password = os.getenv(\"PGPASSWORD\")\n",
    "host = os.getenv(\"PGHOST\")\n",
    "port = os.getenv(\"PGPORT\")\n",
    "database = \"vibrant-routing\"\n",
    "\n",
    "# Configure connection to postgres\n",
    "engine = create_engine(\n",
    "    \"postgresql://{}:{}@{}:{}/{}\".format(user, password, host, port, database)\n",
    ")\n",
    "\n",
    "# Open a connect\n",
    "db_conn = engine.connect()"
   ]
  },
  {
   "cell_type": "markdown",
   "metadata": {},
   "source": [
    "### Peek into the table"
   ]
  },
  {
   "cell_type": "code",
   "execution_count": null,
   "metadata": {},
   "outputs": [],
   "source": [
    "# Count the number of rows\n",
    "sql = \"\"\"\n",
    "    select\n",
    "    count(*) as num_rows\n",
    "    from raw.vibrant_centers_calls_202206031630 vcc\n",
    "\"\"\"\n",
    "num_rows = pd.read_sql(sql, db_conn)"
   ]
  },
  {
   "cell_type": "code",
   "execution_count": null,
   "metadata": {},
   "outputs": [],
   "source": [
    "# Count the number of columns\n",
    "sql = \"\"\"\n",
    "    select\n",
    "    count(*) as num_cols\n",
    "    from information_schema.columns\n",
    "    where table_name = 'vibrant_centers_calls_202206031630';\n",
    "\"\"\"\n",
    "num_cols = pd.read_sql(sql, db_conn)\n",
    "\n",
    "\n",
    "shape = pd.concat([num_rows, num_cols], axis=1, join=\"inner\")\n",
    "shape"
   ]
  },
  {
   "cell_type": "code",
   "execution_count": null,
   "metadata": {},
   "outputs": [],
   "source": [
    "# Peeks at the first few rows\n",
    "\n",
    "sql = \"\"\"\n",
    "    select * from raw.vibrant_centers_calls_202206031630 vcc\n",
    "    limit 5\n",
    "\"\"\"\n",
    "\n",
    "data = pd.read_sql(sql, db_conn)\n",
    "data.head()"
   ]
  },
  {
   "cell_type": "code",
   "execution_count": null,
   "metadata": {},
   "outputs": [],
   "source": [
    "data.columns"
   ]
  },
  {
   "cell_type": "markdown",
   "metadata": {},
   "source": [
    "### Sanity checks -- TODO\n",
    "* completed_at_center = abandoned_at_center + answered_at_center\n",
    "* (call time == 0) == (answered_at_center == 0)\n",
    "* ..."
   ]
  },
  {
   "cell_type": "markdown",
   "metadata": {},
   "source": [
    "### Identify states with local, spanish, and national call centers\n",
    "The count is 53, consisting of:\n",
    "* all fifty states\n",
    "* DC -- Washington, DC (District of Columbia) is the nation's capital city and is not currently a state of its own.\n",
    "* PR -- Puerto Rico is the most populous of the US Territories, which are lands scattered throughout the Caribbean Sea and Pacific Ocean that the US has jurisdiction over but are not states of their own.\n",
    "* GU -- Guam is another one of the US Territories."
   ]
  },
  {
   "cell_type": "code",
   "execution_count": null,
   "metadata": {},
   "outputs": [],
   "source": [
    "# Identify the types of call centers\n",
    "\n",
    "sql = \"\"\"\n",
    "    select\n",
    "    distinct network\n",
    "    from raw.vibrant_centers_calls_202206031630 vcc\n",
    "\"\"\"\n",
    "\n",
    "result = pd.read_sql(sql, db_conn)\n",
    "result"
   ]
  },
  {
   "cell_type": "markdown",
   "metadata": {},
   "source": [
    "### Count the number of states with each type of call center"
   ]
  },
  {
   "cell_type": "code",
   "execution_count": null,
   "metadata": {},
   "outputs": [],
   "source": [
    "# Number of states with any call centers (either local/national)\n",
    "sql = \"\"\"\n",
    "    select\n",
    "        count(distinct center_state) as num_any\n",
    "    from raw.vibrant_centers_calls_202206031630 vcc\n",
    "\"\"\"\n",
    "count_of_states_all = pd.read_sql(sql, db_conn)"
   ]
  },
  {
   "cell_type": "code",
   "execution_count": null,
   "metadata": {},
   "outputs": [],
   "source": [
    "# Number of states with local english call centers\n",
    "sql = \"\"\"\n",
    "    select\n",
    "        count(distinct center_state) as num_eng_local\n",
    "    from raw.vibrant_centers_calls_202206031630 vcc\n",
    "    where network = 'NSPL'\n",
    "\"\"\"\n",
    "count_of_states_english = pd.read_sql(sql, db_conn)"
   ]
  },
  {
   "cell_type": "code",
   "execution_count": null,
   "metadata": {},
   "outputs": [],
   "source": [
    "# Number of states with local spanish call centers\n",
    "sql = \"\"\"\n",
    "    select\n",
    "        count(distinct center_state) as num_spa_local\n",
    "    from raw.vibrant_centers_calls_202206031630 vcc\n",
    "    where network = 'Spanish'\n",
    "\"\"\"\n",
    "count_of_states_spanish = pd.read_sql(sql, db_conn)"
   ]
  },
  {
   "cell_type": "code",
   "execution_count": null,
   "metadata": {},
   "outputs": [],
   "source": [
    "# Number of states with national call centers\n",
    "sql = \"\"\"\n",
    "    select\n",
    "        count(distinct center_state) as num_national\n",
    "    from raw.vibrant_centers_calls_202206031630 vcc\n",
    "    where network = 'National-Backup'\n",
    "\"\"\"\n",
    "count_of_states_national = pd.read_sql(sql, db_conn)"
   ]
  },
  {
   "cell_type": "code",
   "execution_count": null,
   "metadata": {},
   "outputs": [],
   "source": [
    "# Compile the above queries into one table\n",
    "\n",
    "dfs = [\n",
    "    count_of_states_all,\n",
    "    count_of_states_english,\n",
    "    count_of_states_spanish,\n",
    "    count_of_states_national,\n",
    "]\n",
    "\n",
    "result = pd.concat(dfs, axis=1, join=\"inner\")\n",
    "result"
   ]
  },
  {
   "cell_type": "code",
   "execution_count": null,
   "metadata": {},
   "outputs": [],
   "source": [
    "# List of the states with spanish call centers\n",
    "\n",
    "sql = \"\"\"\n",
    "    select\n",
    "        distinct center_state as list_of_distinct_states\n",
    "    from raw.vibrant_centers_calls_202206031630 vcc\n",
    "    where network = 'Spanish'\n",
    "    order by center_state\n",
    "\"\"\"\n",
    "\n",
    "list_of_states_spanish = pd.read_sql(sql, db_conn)\n",
    "list_of_states_spanish.to_numpy().flatten()"
   ]
  },
  {
   "cell_type": "code",
   "execution_count": null,
   "metadata": {},
   "outputs": [],
   "source": [
    "# List of the states with national call centers\n",
    "\n",
    "sql = \"\"\"\n",
    "    select\n",
    "        distinct center_state as list_of_distinct_states\n",
    "    from raw.vibrant_centers_calls_202206031630 vcc\n",
    "    where network = 'National-Backup'\n",
    "    order by center_state\n",
    "\"\"\"\n",
    "\n",
    "list_of_states_national = pd.read_sql(sql, db_conn)\n",
    "list_of_states_national.to_numpy().flatten()"
   ]
  },
  {
   "cell_type": "markdown",
   "metadata": {},
   "source": [
    "### Map the call centers"
   ]
  },
  {
   "cell_type": "code",
   "execution_count": null,
   "metadata": {},
   "outputs": [],
   "source": [
    "# Query the center, caller, latlong\n",
    "sql = \"select center_key, caller_state, center_lat, center_lng  \\\n",
    "        from raw.vibrant_centers_calls_202206031630 vcc \\\n",
    "        group by 1, 2, 3, 4; \"\n",
    "\n",
    "df = db_conn.execute(sql)\n",
    "df = pd.DataFrame(df)\n",
    "df.head()"
   ]
  },
  {
   "cell_type": "code",
   "execution_count": null,
   "metadata": {},
   "outputs": [],
   "source": [
    "# Generate the map\n",
    "\n",
    "geometry = [Point(xy) for xy in zip(df[\"center_lng\"], df[\"center_lat\"])]\n",
    "gdf = GeoDataFrame(df, geometry=geometry)\n",
    "\n",
    "# This is a simple map that goes with geopandas\n",
    "world = gpd.read_file(gpd.datasets.get_path(\"naturalearth_lowres\"))\n",
    "north_america = world[world.continent == \"North America\"]\n",
    "gdf.plot(\n",
    "    ax=north_america.plot(figsize=(40, 30)), marker=\"o\", color=\"red\", markersize=15\n",
    ");"
   ]
  },
  {
   "cell_type": "markdown",
   "metadata": {},
   "source": [
    "### Count the number of each type of call center in each state"
   ]
  },
  {
   "cell_type": "code",
   "execution_count": null,
   "metadata": {},
   "outputs": [],
   "source": [
    "# Number of local english centers\n",
    "sql = \"\"\"\n",
    "\tselect\n",
    "\t\tcenter_state,\n",
    "\t\tcount(distinct center_key) as count_eng_local_centers\n",
    "\tfrom raw.vibrant_centers_calls_202206031630 vcc\n",
    "\twhere network = 'NSPL'\n",
    "\tgroup by center_state\n",
    "\torder by count_eng_local_centers desc\n",
    "\"\"\"\n",
    "count_eng_local_centers = pd.read_sql(sql, db_conn)"
   ]
  },
  {
   "cell_type": "code",
   "execution_count": null,
   "metadata": {},
   "outputs": [],
   "source": [
    "# Number of local spanish centers\n",
    "sql = \"\"\"\n",
    "\tselect\n",
    "\t\tcenter_state,\n",
    "\t\tcount(distinct center_key) as count_span_local_centers\n",
    "\tfrom raw.vibrant_centers_calls_202206031630 vcc\n",
    "\twhere network = 'Spanish'\n",
    "\tgroup by center_state\n",
    "\torder by count_span_local_centers desc\n",
    "\"\"\"\n",
    "count_span_local_centers = pd.read_sql(sql, db_conn)"
   ]
  },
  {
   "cell_type": "code",
   "execution_count": null,
   "metadata": {},
   "outputs": [],
   "source": [
    "# Number of national backup centers\n",
    "sql = \"\"\"\n",
    "\tselect\n",
    "\t\tcenter_state,\n",
    "\t\tcount(distinct center_key) as count_national_centers\n",
    "\tfrom raw.vibrant_centers_calls_202206031630 vcc\n",
    "\twhere network = 'National-Backup'\n",
    "\tgroup by center_state\n",
    "\torder by count_national_centers desc\n",
    "\"\"\"\n",
    "count_national_centers = pd.read_sql(sql, db_conn)"
   ]
  },
  {
   "cell_type": "code",
   "execution_count": null,
   "metadata": {},
   "outputs": [],
   "source": [
    "# Compile the above queries into one table\n",
    "dfs = [count_eng_local_centers, count_span_local_centers, count_national_centers]\n",
    "\n",
    "count_all = ft.reduce(\n",
    "    lambda left, right: pd.merge(left, right, how=\"outer\", on=\"center_state\"), dfs\n",
    ").fillna(0)\n",
    "count_all.head(10)"
   ]
  },
  {
   "cell_type": "markdown",
   "metadata": {},
   "source": [
    "### Count the in-state and out-state calls being made, answered, and missed in each state"
   ]
  },
  {
   "cell_type": "code",
   "execution_count": null,
   "metadata": {},
   "outputs": [],
   "source": [
    "# Number of calls being initiated from each state\n",
    "sql = \"\"\"\n",
    "\tselect\n",
    "\t\tcaller_state,\n",
    "\t\tcount(caller_state) as calls_from_state\n",
    "\tfrom raw.vibrant_centers_calls_202206031630 vcc\n",
    "\tgroup by caller_state\n",
    "\torder by calls_from_state desc\n",
    "\"\"\"\n",
    "calls_from_state = pd.read_sql(sql, db_conn)"
   ]
  },
  {
   "cell_type": "code",
   "execution_count": null,
   "metadata": {},
   "outputs": [],
   "source": [
    "# Number of calls answered by in-state english local centers\n",
    "sql = \"\"\"\n",
    "    select\n",
    "        center_state,\n",
    "        count(center_state) as in_state_calls_eng_answered\n",
    "    from raw.vibrant_centers_calls_202206031630 vcc\n",
    "    where vcc.answered_at_center = 1 and vcc.center_state = vcc.caller_state and vcc.network = 'NSPL'\n",
    "    group by center_state\n",
    "    order by in_state_calls_eng_answered desc\n",
    "\"\"\"\n",
    "in_state_calls_eng_answered = pd.read_sql(sql, db_conn)"
   ]
  },
  {
   "cell_type": "code",
   "execution_count": null,
   "metadata": {},
   "outputs": [],
   "source": [
    "# Number of calls answered by in-state spanish local centers\n",
    "sql = \"\"\"\n",
    "    select\n",
    "        center_state,\n",
    "        count(center_state) as in_state_calls_spa_answered\n",
    "    from raw.vibrant_centers_calls_202206031630 vcc\n",
    "    where vcc.answered_at_center = 1 and vcc.center_state = vcc.caller_state and vcc.network = 'Spanish'\n",
    "    group by center_state\n",
    "\"\"\"\n",
    "in_state_calls_spa_answered = pd.read_sql(sql, db_conn)"
   ]
  },
  {
   "cell_type": "code",
   "execution_count": null,
   "metadata": {},
   "outputs": [],
   "source": [
    "# Number of in-state call attempts missed (including re-routes)\n",
    "# (answered by another state's local centers or by National Backup)\n",
    "\n",
    "sql = \"\"\"\n",
    "    select\n",
    "        center_state,\n",
    "        count(center_state) as num_in_state_missed\n",
    "    from raw.vibrant_centers_calls_202206031630 vcc\n",
    "    where vcc.answered_at_center = 0 and vcc.center_state = vcc.caller_state or vcc.network = 'National-Backup'\n",
    "    group by center_state\n",
    "\"\"\"\n",
    "in_state_calls_missed = pd.read_sql(sql, db_conn)"
   ]
  },
  {
   "cell_type": "code",
   "execution_count": null,
   "metadata": {},
   "outputs": [],
   "source": [
    "# Number of out-of-state calls that each state's local centers absorbed\n",
    "sql = \"\"\"\n",
    "    select\n",
    "        center_state,\n",
    "        count(center_state) as num_out_state_answers\n",
    "    from raw.vibrant_centers_calls_202206031630 vcc\n",
    "    where vcc.answered_at_center = 1 and vcc.center_state <> vcc.caller_state and vcc.network <> 'National-Backup'\n",
    "    group by center_state\n",
    "\"\"\"\n",
    "out_state_calls_answered = pd.read_sql(sql, db_conn)"
   ]
  },
  {
   "cell_type": "code",
   "execution_count": null,
   "metadata": {},
   "outputs": [],
   "source": [
    "# Compile the above queries into one table\n",
    "\n",
    "dfs = [\n",
    "    in_state_calls_eng_answered,\n",
    "    in_state_calls_spa_answered,\n",
    "    in_state_calls_missed,\n",
    "    out_state_calls_answered,\n",
    "]\n",
    "count_all = ft.reduce(\n",
    "    lambda left, right: pd.merge(left, right, how=\"outer\", on=\"center_state\"), dfs\n",
    ").fillna(0)\n",
    "\n",
    "count_all.merge(\n",
    "    calls_from_state, how=\"outer\", left_on=\"center_state\", right_on=\"caller_state\"\n",
    ")\n",
    "\n",
    "count_all.head(10)"
   ]
  },
  {
   "cell_type": "markdown",
   "metadata": {},
   "source": [
    "### Talk time analysis\n",
    "\n",
    "Excludes 0-second convos (which indicate that the call was not answered there)"
   ]
  },
  {
   "cell_type": "code",
   "execution_count": null,
   "metadata": {},
   "outputs": [],
   "source": [
    "# Mean and median talk time in local english centers\n",
    "sql = \"\"\"\n",
    "    select\n",
    "        center_state,\n",
    "        avg(talk_time_center)/60 as mean_talk_local_eng_mins,\n",
    "        percentile_cont(0.5) within group(order by talk_time_center/60) as median_talk_local_eng_mins\n",
    "    from raw.vibrant_centers_calls_202206031630 vcc\n",
    "    where talk_time_center > 0 and network = 'NSPL'\n",
    "    group by center_state\n",
    "\"\"\"\n",
    "\n",
    "talk_time_local_eng_mins = pd.read_sql(sql, db_conn)"
   ]
  },
  {
   "cell_type": "code",
   "execution_count": null,
   "metadata": {},
   "outputs": [],
   "source": [
    "# Mean and median talk time in local spanish centers\n",
    "sql = \"\"\"\n",
    "    select\n",
    "        center_state,\n",
    "        avg(talk_time_center)/60 as mean_talk_local_spa_mins,\n",
    "        percentile_cont(0.5) within group(order by talk_time_center/60) as median_talk_local_spa_mins\n",
    "    from raw.vibrant_centers_calls_202206031630 vcc\n",
    "    where talk_time_center > 0 and network = 'Spanish'\n",
    "    group by center_state\n",
    "\"\"\"\n",
    "\n",
    "talk_time_local_spa_mins = pd.read_sql(sql, db_conn)"
   ]
  },
  {
   "cell_type": "code",
   "execution_count": null,
   "metadata": {},
   "outputs": [],
   "source": [
    "# Mean and median talk time in national backup centers\n",
    "sql = \"\"\"\n",
    "    select\n",
    "        center_state,\n",
    "        avg(talk_time_center)/60 as mean_talk_national_mins,\n",
    "        percentile_cont(0.5) within group(order by talk_time_center/60) as median_talk_national_mins\n",
    "    from raw.vibrant_centers_calls_202206031630 vcc\n",
    "    where talk_time_center > 0 and network = 'National-Backup'\n",
    "    group by center_state\n",
    "\"\"\"\n",
    "\n",
    "talk_time_national_mins = pd.read_sql(sql, db_conn)"
   ]
  },
  {
   "cell_type": "code",
   "execution_count": null,
   "metadata": {},
   "outputs": [],
   "source": [
    "# Compile the above queries into one table\n",
    "\n",
    "dfs = [talk_time_local_eng_mins, talk_time_local_spa_mins, talk_time_national_mins]\n",
    "talk_times = ft.reduce(\n",
    "    lambda left, right: pd.merge(left, right, how=\"outer\", on=\"center_state\"), dfs\n",
    ").fillna(0)\n",
    "\n",
    "talk_times.head(10)"
   ]
  },
  {
   "cell_type": "markdown",
   "metadata": {},
   "source": [
    "### Total talk/ring/wait times (sum)\n",
    "\n",
    "Note that in theory, it should be the case that ring_time_center == time_to_answer_center when the call is answered at the center. However, we can see that this is not the case in practice. This is because both these metrics are not directly recorded, but rather calculated via proxies. They shouldn't be too terribly different."
   ]
  },
  {
   "cell_type": "code",
   "execution_count": null,
   "metadata": {},
   "outputs": [],
   "source": [
    "sql = \"\"\"\n",
    "    select\n",
    "        call_key ,\n",
    "        caller_state ,\n",
    "        sum(talk_time_center) as sum_talk_time ,\n",
    "        sum(ring_time_center) as sum_ring_time ,\n",
    "        sum(time_to_answer_center) as sum_time_to_answer_center ,\n",
    "        sum(time_to_leave_center) as sum_time_to_leave_center ,\n",
    "        sum(time_to_abandon_center) sum_time_to_abandon ,\n",
    "        max_attempt_num,\n",
    "        max(attempt_number) as max_attempts_sanity_check ,\n",
    "        max(abandoned_at_center) as ever_abandoned ,\n",
    "        max(dc_at_center) as ever_dc ,\n",
    "        max(bs_at_center) as ever_bs ,\n",
    "        max(na_at_center) as ever_na ,\n",
    "        sum(answered_in_state) as answered_in_state ,\n",
    "        sum(answered_out_state) as answered_out_state ,\n",
    "        sum(in_state_exception) as in_state_exception \n",
    "    from raw.vibrant_centers_calls_202206031630 vcc \n",
    "    where talk_time_center > 0\n",
    "    group by\n",
    "        call_key ,\n",
    "        caller_state ,\n",
    "        center_key ,\n",
    "        max_attempt_num \n",
    "\"\"\"\n",
    "\n",
    "total_times = pd.read_sql(sql, db_conn)"
   ]
  },
  {
   "cell_type": "code",
   "execution_count": null,
   "metadata": {},
   "outputs": [],
   "source": [
    "total_times.sort_values(\"sum_ring_time\", ascending=False, inplace=True)\n",
    "total_times"
   ]
  },
  {
   "cell_type": "markdown",
   "metadata": {},
   "source": [
    "### Time to abandon"
   ]
  },
  {
   "cell_type": "code",
   "execution_count": null,
   "metadata": {},
   "outputs": [],
   "source": [
    "# Calls abandoned before being picked up by the first call center (mins)\n",
    "sql = \"\"\"\n",
    "    select\n",
    "        time_to_abandon_center/60 as time_to_abandon_at_first\n",
    "    from raw.vibrant_centers_calls_202206031630 vcc\n",
    "    where network <> 'National-Backup' and attempt_number = 1 and time_to_abandon_center > 0\n",
    "\"\"\"\n",
    "\n",
    "time_to_abandon_at_first = pd.read_sql(sql, db_conn).to_numpy().flatten()"
   ]
  },
  {
   "cell_type": "code",
   "execution_count": null,
   "metadata": {},
   "outputs": [],
   "source": [
    "# Calls abandoned before being picked up by any call center (mins) -- not a sum\n",
    "\n",
    "sql = \"\"\"\n",
    "    select\n",
    "        time_to_abandon_center/60 as time_to_abandon_all\n",
    "    from raw.vibrant_centers_calls_202206031630 vcc\n",
    "    where time_to_abandon_center > 0 and time_to_abandon_center < 200*60\n",
    "\"\"\"\n",
    "\n",
    "time_to_abandon_all = pd.read_sql(sql, db_conn).to_numpy().flatten()"
   ]
  },
  {
   "cell_type": "code",
   "execution_count": null,
   "metadata": {},
   "outputs": [],
   "source": [
    "plt.boxplot([time_to_abandon_at_first, time_to_abandon_all])\n",
    "plt.xticks(\n",
    "    [1, 2], [\"All data\\nabandoned at\\nfirst center\", \"All data\\nabandoned\\nanywhere\"]\n",
    ")\n",
    "plt.ylabel(\"Time to abandon (mins)\")\n",
    "plt.title(\n",
    "    \"Abandoned calls: Time before caller hung up without speaking to anyone\\nData ranges from Jan 2019-Present\"\n",
    ")\n",
    "\n",
    "caption = 'Note: the boxplot for \"All data\" was truncated in order to fit on this chart\\ns.t. calls where time_to_answer_center >= 200mins are not pictured (a handful of datapoints were excluded).'\n",
    "plt.figtext(0.5, -0.1, caption, wrap=True, horizontalalignment=\"center\", fontsize=12)\n",
    "\n",
    "plt.show()"
   ]
  },
  {
   "cell_type": "markdown",
   "metadata": {},
   "source": [
    "### Secondary data -- state metrics"
   ]
  },
  {
   "cell_type": "code",
   "execution_count": null,
   "metadata": {},
   "outputs": [],
   "source": [
    "# Query some basic state stats\n",
    "\n",
    "sql = \"\"\"\n",
    "    select\n",
    "        state_abbrev,\n",
    "        population_2019,\n",
    "        suicides_2020\n",
    "    from raw.state_data sd \n",
    "\"\"\"\n",
    "\n",
    "\n",
    "state_metrics = pd.read_sql(sql, db_conn)\n",
    "state_metrics.head()"
   ]
  },
  {
   "cell_type": "markdown",
   "metadata": {},
   "source": [
    "### EDA Questions for Technical Formulation (07/05)"
   ]
  },
  {
   "cell_type": "markdown",
   "metadata": {},
   "source": [
    "#### Number of Routing Attempts per Month in 2020 & 2021"
   ]
  },
  {
   "cell_type": "code",
   "execution_count": null,
   "metadata": {},
   "outputs": [],
   "source": [
    "sql = \"\"\"\n",
    "    select extract(month from ra.arrived_datetime_est::date) as \"month\", count(*) as \"routing_attempts_per_month\"\n",
    "    from processed.routing_attempts ra\n",
    "    where (extract(year from ra.arrived_datetime_est::date) = 2020) or (extract(year from ra.arrived_datetime_est::date) = 2021)\n",
    "    group by 1\n",
    "    order by 1 asc;\n",
    "\"\"\"\n",
    "\n",
    "num_routing_attemps_by_month = pd.read_sql(sql, db_conn)\n",
    "num_routing_attemps_by_month"
   ]
  },
  {
   "cell_type": "markdown",
   "metadata": {},
   "source": [
    "#### Number of Distinct Calls per Month"
   ]
  },
  {
   "cell_type": "code",
   "execution_count": null,
   "metadata": {},
   "outputs": [],
   "source": [
    "sql = \"\"\"\n",
    "     select extract(month from ra.arrived_datetime_est::date) as \"month\", count(distinct call_key) as \"num_distinct_calls_per_month\"\n",
    "    from processed.routing_attempts ra\n",
    "    where (extract(year from ra.arrived_datetime_est::date) = 2020) or (extract(year from ra.arrived_datetime_est::date) = 2021)\n",
    "    group by 1\n",
    "    order by 1 asc;\n",
    "\"\"\"\n",
    "\n",
    "num_distinct_calls_by_month = pd.read_sql(sql, db_conn)\n",
    "num_distinct_calls_by_month"
   ]
  },
  {
   "cell_type": "markdown",
   "metadata": {},
   "source": [
    "#### Overall Call Answer Rate by Month"
   ]
  },
  {
   "cell_type": "code",
   "execution_count": null,
   "metadata": {},
   "outputs": [],
   "source": [
    "sql = \"\"\"\n",
    "    select extract(month from ra.arrived_datetime_est::date) as \"month\", sum(ra.answered_at_center)::float/count(distinct ra.call_key)::float as answer_rate \n",
    "    from processed.routing_attempts ra\n",
    "    group by 1\n",
    "    order by 1 asc;\n",
    "\"\"\"\n",
    "answer_rate_by_month = pd.read_sql(sql, db_conn)\n",
    "answer_rate_by_month"
   ]
  },
  {
   "cell_type": "markdown",
   "metadata": {},
   "source": [
    "#### Answer Rate on First Attempt by Month"
   ]
  },
  {
   "cell_type": "code",
   "execution_count": null,
   "metadata": {},
   "outputs": [],
   "source": [
    "sql = \"\"\"\n",
    "    with table_1 as\n",
    "        (select extract(month from arrived_datetime_est::date) as \"month\",   sum(aa.answered_at_center)::float as answer_at_first_attempt\n",
    "        from processed.routing_attempts aa\n",
    "        where aa.attempt_number =1\n",
    "        group by 1\n",
    "        order by 1 asc) , \n",
    "\ttable_2 as \n",
    "        (select extract(month from arrived_datetime_est::date) as \"month\",   count(distinct aa.call_key)::float as distinct_call_keys\n",
    "        from processed.routing_attempts aa\n",
    "        group by 1\n",
    "        order by 1 asc)\n",
    "\tselect \"month\",  answer_at_first_attempt/distinct_call_keys as answer_rate_on_first_attempt\n",
    "\tfrom table_1 join table_2 using (\"month\")\n",
    "\torder by \"month\" asc;\n",
    "\"\"\"\n",
    "\n",
    "answer_rate_on_first_attempt = pd.read_sql(sql, db_conn)\n",
    "answer_rate_on_first_attempt"
   ]
  },
  {
   "cell_type": "markdown",
   "metadata": {},
   "source": [
    "#### Histogram of number of routing attemps"
   ]
  },
  {
   "cell_type": "code",
   "execution_count": null,
   "metadata": {},
   "outputs": [],
   "source": [
    "sql = \"\"\"\n",
    "    select count(distinct call_key), max_attempt_num\n",
    "    from processed.routing_attempts ra \n",
    "    group by 2\n",
    "    order by 2 asc;\n",
    "\"\"\"\n",
    "\n",
    "hist_num_routing_attempts = pd.read_sql(sql, db_conn)\n",
    "hist_num_routing_attempts"
   ]
  },
  {
   "cell_type": "markdown",
   "metadata": {},
   "source": [
    "#### Answer and Abandonment Rates by Routing Attempt"
   ]
  },
  {
   "cell_type": "code",
   "execution_count": null,
   "metadata": {},
   "outputs": [],
   "source": [
    "sql = \"\"\"\n",
    "    select \n",
    "\tanswered_at_center::float / count_call_keys::float as answer_rate,\n",
    "\tabandoned_at_center::float / count_call_keys::float as abandon_rate,\n",
    "\tmax_attempt_num,\n",
    "\tanswered_at_center,\n",
    "\tabandoned_at_center,\n",
    "\tcount_call_keys\n",
    "from\n",
    "\t(select\n",
    "\t\tmax_attempt_num,\n",
    "\t\tsum(answered_at_center) as answered_at_center,\n",
    "\t\tsum(abandoned_at_center) as abandoned_at_center,\n",
    "\t\tcount(distinct call_key) as count_call_keys\n",
    "\tfrom processed.routing_attempts ra\n",
    "\tgroup by\n",
    "\t\tmax_attempt_num\n",
    "\t) as answer_and_abandon_counts_by_attempt_num \n",
    ";\n",
    "\"\"\"\n",
    "\n",
    "answer_and_abandon_rates_by_routing_attempt = pd.read_sql(sql, db_conn)\n",
    "answer_and_abandon_rates_by_routing_attempt"
   ]
  },
  {
   "cell_type": "markdown",
   "metadata": {},
   "source": [
    "## Waiting times"
   ]
  },
  {
   "cell_type": "code",
   "execution_count": null,
   "metadata": {},
   "outputs": [],
   "source": [
    "sql = \"\"\"\n",
    "    select center_key , termination_number ,\n",
    "        center_is_acd , center_is_aa , count(distinct call_key) as num_calls,\n",
    "        max(extract(year from arrived_datetime_est)) ,\n",
    "        min(time_to_leave_center) / 60 as min_time_to_leave_center, \n",
    "        avg(time_to_leave_center) / 60 as avg_time_to_leave_center, \n",
    "        percentile_disc(0.5) within group (order by time_to_leave_center) / 60  as median,\n",
    "        max(time_to_leave_center) / 60 as max_time_to_leave_center, \n",
    "        stddev(time_to_leave_center) / 60 as std_time_to_leave_center\n",
    "    from processed.routing_attempts ra  \n",
    "    where flowout_from_center = 1 and answered_at_center = 0 and completed_at_center = 0 and abandoned_at_center = 0\n",
    "    group by center_key , termination_number , center_is_acd , center_is_aa\n",
    "    order by max(time_to_leave_center) desc, center_key desc;\n",
    "\"\"\"\n",
    "\n",
    "center_wait_time = pd.read_sql(sql, db_conn)"
   ]
  },
  {
   "cell_type": "code",
   "execution_count": null,
   "metadata": {},
   "outputs": [],
   "source": [
    "center_wait_time_ACD = center_wait_time[center_wait_time[\"center_is_acd\"] == 1]\n",
    "center_wait_time_ACD_and_AA = center_wait_time_ACD[\n",
    "    center_wait_time_ACD[\"center_is_aa\"] == 1\n",
    "]\n",
    "center_wait_time_nonACD = center_wait_time[center_wait_time[\"center_is_acd\"] == 0]\n",
    "center_wait_time_nonACD_nonAA = center_wait_time_nonACD[\n",
    "    center_wait_time_nonACD[\"center_is_aa\"] == 0\n",
    "]\n",
    "\n",
    "center_timings = pd.concat(\n",
    "    [\n",
    "        center_wait_time_ACD[\"median\"].describe(),\n",
    "        center_wait_time_ACD_and_AA[\"median\"].describe(),\n",
    "        center_wait_time_nonACD[\"median\"].describe(),\n",
    "        center_wait_time_nonACD_nonAA[\"median\"].describe(),\n",
    "    ],\n",
    "    axis=1,\n",
    ")\n",
    "center_timings.set_axis(\n",
    "    [\"ACD\", \"ACD & AA\", \"non-ACD\", \"non-ACD & non-AA\"], axis=\"columns\", inplace=True\n",
    ")"
   ]
  },
  {
   "cell_type": "code",
   "execution_count": null,
   "metadata": {},
   "outputs": [],
   "source": [
    "center_timings"
   ]
  },
  {
   "cell_type": "markdown",
   "metadata": {},
   "source": [
    "We ask Rebecca to shed light on the outliers. Our understanding was that ACD centers are capable of holding calls for a max of 3 minutes while non-ACD centers can hold them for a max of 1 minute before flowing them to the next center."
   ]
  },
  {
   "cell_type": "code",
   "execution_count": null,
   "metadata": {},
   "outputs": [],
   "source": []
  }
 ],
 "metadata": {
  "kernelspec": {
   "display_name": "Python 3.10.4 ('.venv': venv)",
   "language": "python",
   "name": "python3"
  },
  "language_info": {
   "codemirror_mode": {
    "name": "ipython",
    "version": 3
   },
   "file_extension": ".py",
   "mimetype": "text/x-python",
   "name": "python",
   "nbconvert_exporter": "python",
   "pygments_lexer": "ipython3",
   "version": "3.10.4"
  },
  "vscode": {
   "interpreter": {
    "hash": "4dba99fc6d29906b79fa36c09ae1412c61be58e0a8e2526ce4b42f43d90e396d"
   }
  }
 },
 "nbformat": 4,
 "nbformat_minor": 2
}
